{
 "cells": [
  {
   "cell_type": "code",
   "execution_count": 11,
   "id": "f930d02b",
   "metadata": {},
   "outputs": [
    {
     "name": "stdout",
     "output_type": "stream",
     "text": [
      "          Province      Country   Latitude  Longitude        Date  Confirmed  \\\n",
      "0      Afghanistan  Afghanistan  33.939110  67.709953  22-01-2020          0   \n",
      "1      Afghanistan  Afghanistan  33.939110  67.709953  23-01-2020          0   \n",
      "2      Afghanistan  Afghanistan  33.939110  67.709953  24-01-2020          0   \n",
      "3      Afghanistan  Afghanistan  33.939110  67.709953  25-01-2020          0   \n",
      "4      Afghanistan  Afghanistan  33.939110  67.709953  26-01-2020          0   \n",
      "...            ...          ...        ...        ...         ...        ...   \n",
      "78381     Zimbabwe     Zimbabwe -19.015438  29.154857  09-06-2021        111   \n",
      "78382     Zimbabwe     Zimbabwe -19.015438  29.154857  10-06-2021         64   \n",
      "78383     Zimbabwe     Zimbabwe -19.015438  29.154857  11-06-2021        192   \n",
      "78384     Zimbabwe     Zimbabwe -19.015438  29.154857  12-06-2021        164   \n",
      "78385     Zimbabwe     Zimbabwe -19.015438  29.154857  13-06-2021        107   \n",
      "\n",
      "       Deaths  Recovered  \n",
      "0           0          0  \n",
      "1           0          0  \n",
      "2           0          0  \n",
      "3           0          0  \n",
      "4           0          0  \n",
      "...       ...        ...  \n",
      "78381       5        161  \n",
      "78382       4         23  \n",
      "78383       3         30  \n",
      "78384       3         22  \n",
      "78385       0         12  \n",
      "\n",
      "[78386 rows x 8 columns]\n"
     ]
    }
   ],
   "source": [
    "import pandas as pd\n",
    "from sqlalchemy import create_engine\n",
    "\n",
    "try:\n",
    "    # Load the Excel file\n",
    "    file = \"Corona-Virus-Dataset.xlsx\"\n",
    "    df = pd.read_excel(file, sheet_name='Worksheet')\n",
    "\n",
    "    # Create an in-memory SQLite database\n",
    "    engine = create_engine('sqlite://', echo=False)\n",
    "\n",
    "    # Write the dataframe to the SQLite database\n",
    "    df.to_sql('corona', engine, if_exists='replace', index=False)\n",
    "\n",
    "    # Execute a SQL query to select all data from the 'corona' table\n",
    "    result = engine.execute(\"SELECT * FROM corona\")\n",
    "\n",
    "    # Convert the result to a DataFrame\n",
    "    final = pd.DataFrame(result.fetchall(), columns=result.keys())\n",
    "\n",
    "    # Save the DataFrame to an Excel file\n",
    "    output = \"output.xlsx\"\n",
    "    final.to_excel(output, index=False)\n",
    "\n",
    "    # Verify that the 'final' DataFrame is correctly defined\n",
    "    print(final)\n",
    "    \n",
    "except Exception as e:\n",
    "    print(f\"An error occurred: {e}\")\n"
   ]
  },
  {
   "cell_type": "code",
   "execution_count": 26,
   "id": "d1468943",
   "metadata": {
    "scrolled": true
   },
   "outputs": [
    {
     "name": "stdout",
     "output_type": "stream",
     "text": [
      "No rows found where Recovered is null.\n"
     ]
    }
   ],
   "source": [
    "#1\n",
    "import pandas as pd\n",
    "from sqlalchemy import create_engine\n",
    "\n",
    "try:\n",
    "    file = \"Corona-Virus-Dataset.xlsx\"\n",
    "    df = pd.read_excel(file, sheet_name='Worksheet')\n",
    "    engine = create_engine('sqlite://', echo=False)\n",
    "    df.to_sql('corona', engine, if_exists='replace', index=False)\n",
    "    \n",
    "    result1 = engine.execute(\"SELECT * FROM corona WHERE Recovered IS NULL\")\n",
    "\n",
    "    p1 = pd.DataFrame(result1.fetchall(), columns=result1.keys())\n",
    "\n",
    "    if p1.empty:\n",
    "        print(\"No rows found where Recovered is null.\")\n",
    "    else:\n",
    "        output = \"output.xlsx\"\n",
    "        p1.to_excel(output, index=False)\n",
    "        print(p1)\n",
    "    \n",
    "except Exception as e:\n",
    "    print(f\"An error occurred: {e}\")\n"
   ]
  },
  {
   "cell_type": "code",
   "execution_count": 25,
   "id": "011d8a31",
   "metadata": {},
   "outputs": [
    {
     "name": "stdout",
     "output_type": "stream",
     "text": [
      "          Province      Country   Latitude  Longitude        Date  Confirmed  \\\n",
      "0      Afghanistan  Afghanistan  33.939110  67.709953  22-01-2020          0   \n",
      "1      Afghanistan  Afghanistan  33.939110  67.709953  23-01-2020          0   \n",
      "2      Afghanistan  Afghanistan  33.939110  67.709953  24-01-2020          0   \n",
      "3      Afghanistan  Afghanistan  33.939110  67.709953  25-01-2020          0   \n",
      "4      Afghanistan  Afghanistan  33.939110  67.709953  26-01-2020          0   \n",
      "...            ...          ...        ...        ...         ...        ...   \n",
      "78381     Zimbabwe     Zimbabwe -19.015438  29.154857  09-06-2021        111   \n",
      "78382     Zimbabwe     Zimbabwe -19.015438  29.154857  10-06-2021         64   \n",
      "78383     Zimbabwe     Zimbabwe -19.015438  29.154857  11-06-2021        192   \n",
      "78384     Zimbabwe     Zimbabwe -19.015438  29.154857  12-06-2021        164   \n",
      "78385     Zimbabwe     Zimbabwe -19.015438  29.154857  13-06-2021        107   \n",
      "\n",
      "       Deaths  Recovered  \n",
      "0           0          0  \n",
      "1           0          0  \n",
      "2           0          0  \n",
      "3           0          0  \n",
      "4           0          0  \n",
      "...       ...        ...  \n",
      "78381       5        161  \n",
      "78382       4         23  \n",
      "78383       3         30  \n",
      "78384       3         22  \n",
      "78385       0         12  \n",
      "\n",
      "[78386 rows x 8 columns]\n"
     ]
    }
   ],
   "source": [
    "#2\n",
    "import pandas as pd\n",
    "from sqlalchemy import create_engine\n",
    "\n",
    "try:\n",
    "    \n",
    "    file = \"Corona-Virus-Dataset.xlsx\"\n",
    "    df = pd.read_excel(file, sheet_name='Worksheet')\n",
    "    engine = create_engine('sqlite://', echo=False)\n",
    "    df.to_sql('corona', engine, if_exists='replace', index=False)\n",
    "\n",
    "    engine.execute(\"\"\"\n",
    "        UPDATE corona \n",
    "        SET \n",
    "            province = IFNULL(province, 0), \n",
    "            country = IFNULL(country, 0), \n",
    "            latitude = IFNULL(latitude, 0), \n",
    "            longitude = IFNULL(longitude, 0), \n",
    "            date = IFNULL(date, 0), \n",
    "            confirmed = IFNULL(confirmed, 0), \n",
    "            deaths = IFNULL(deaths, 0), \n",
    "            recovered = IFNULL(recovered, 0);\n",
    "    \"\"\")\n",
    "\n",
    "    result = engine.execute(\"SELECT * FROM corona\")\n",
    "    \n",
    "    final_df = pd.DataFrame(result.fetchall(), columns=result.keys())\n",
    "    output = \"output.xlsx\"\n",
    "    final_df.to_excel(output, index=False)\n",
    "    print(final_df)\n",
    "    \n",
    "except Exception as e:\n",
    "    print(f\"An error occurred: {e}\")\n"
   ]
  },
  {
   "cell_type": "code",
   "execution_count": 27,
   "id": "9b810780",
   "metadata": {},
   "outputs": [
    {
     "name": "stdout",
     "output_type": "stream",
     "text": [
      "   total_raws\n",
      "0       78386\n"
     ]
    }
   ],
   "source": [
    "#3\n",
    "import pandas as pd\n",
    "from sqlalchemy import create_engine\n",
    "\n",
    "try:\n",
    "    \n",
    "    file = \"Corona-Virus-Dataset.xlsx\"\n",
    "    df = pd.read_excel(file, sheet_name='Worksheet')\n",
    "    engine = create_engine('sqlite://', echo=False)\n",
    "    df.to_sql('corona', engine, if_exists='replace', index=False)\n",
    "\n",
    "    result = engine.execute(\"SELECT Count(*) as total_raws FROM corona \")\n",
    "\n",
    "    final = pd.DataFrame(result.fetchall(), columns=result.keys())\n",
    "    output = \"output.xlsx\"\n",
    "    final.to_excel(output, index=False)\n",
    "    print(final)\n",
    "    \n",
    "except Exception as e:\n",
    "    print(f\"An error occurred: {e}\")\n"
   ]
  },
  {
   "cell_type": "code",
   "execution_count": 31,
   "id": "ef41c7f5",
   "metadata": {},
   "outputs": [
    {
     "name": "stdout",
     "output_type": "stream",
     "text": [
      "  earlist_start_date\n",
      "0         01-01-2021\n"
     ]
    }
   ],
   "source": [
    "#4start\n",
    "import pandas as pd\n",
    "from sqlalchemy import create_engine\n",
    "\n",
    "try:\n",
    "    # Load the Excel file\n",
    "    file = \"Corona-Virus-Dataset.xlsx\"\n",
    "    df = pd.read_excel(file, sheet_name='Worksheet')\n",
    "    engine = create_engine('sqlite://', echo=False)\n",
    "    df.to_sql('corona', engine, if_exists='replace', index=False)\n",
    "\n",
    "    result = engine.execute(\"SELECT  min(date) AS earlist_start_date FROM corona \")\n",
    "\n",
    "    final = pd.DataFrame(result.fetchall(), columns=result.keys())\n",
    "    output = \"output.xlsx\"\n",
    "    final.to_excel(output, index=False)\n",
    "    print(final)\n",
    "    \n",
    "except Exception as e:\n",
    "    print(f\"An error occurred: {e}\")\n"
   ]
  },
  {
   "cell_type": "code",
   "execution_count": 33,
   "id": "ca0328dd",
   "metadata": {},
   "outputs": [
    {
     "name": "stdout",
     "output_type": "stream",
     "text": [
      "     end_date\n",
      "0  31-12-2020\n"
     ]
    }
   ],
   "source": [
    "#4end\n",
    "import pandas as pd\n",
    "from sqlalchemy import create_engine\n",
    "\n",
    "try:\n",
    "  \n",
    "    file = \"Corona-Virus-Dataset.xlsx\"\n",
    "    df = pd.read_excel(file, sheet_name='Worksheet')\n",
    "    engine = create_engine('sqlite://', echo=False)\n",
    "    df.to_sql('corona', engine, if_exists='replace', index=False)\n",
    "\n",
    "    result = engine.execute(\"SELECT  max(date) AS end_date FROM corona \")\n",
    "\n",
    "    final = pd.DataFrame(result.fetchall(), columns=result.keys())\n",
    "    output = \"output.xlsx\"\n",
    "    final.to_excel(output, index=False)\n",
    "    print(final)\n",
    "    \n",
    "except Exception as e:\n",
    "    print(f\"An error occurred: {e}\")\n"
   ]
  },
  {
   "cell_type": "code",
   "execution_count": 38,
   "id": "bb0bdbb8",
   "metadata": {},
   "outputs": [
    {
     "name": "stdout",
     "output_type": "stream",
     "text": [
      "   months\n",
      "0       0\n"
     ]
    }
   ],
   "source": [
    "#5\n",
    "import pandas as pd\n",
    "from sqlalchemy import create_engine\n",
    "\n",
    "try:\n",
    "    \n",
    "    file = \"Corona-Virus-Dataset.xlsx\"\n",
    "    df = pd.read_excel(file, sheet_name='Worksheet')\n",
    "    engine = create_engine('sqlite://', echo=False)\n",
    "    df.to_sql('corona', engine, if_exists='replace', index=False)\n",
    "    \n",
    "    result = engine.execute(\"SELECT COUNT(DISTINCT strftime('%m', Date)) AS months FROM corona\")\n",
    "    \n",
    "    final = pd.DataFrame(result.fetchall(), columns=result.keys())\n",
    "    output = \"output.xlsx\"\n",
    "    final.to_excel(output, index=False)\n",
    "    print(final)\n",
    "\n",
    "except Exception as e:\n",
    "    print(f\"An error occurred: {e}\")\n"
   ]
  },
  {
   "cell_type": "code",
   "execution_count": 2,
   "id": "d2b76b66",
   "metadata": {},
   "outputs": [
    {
     "name": "stdout",
     "output_type": "stream",
     "text": [
      "  month  avg_confirmed  avg_deaths  avg_recovered\n",
      "0  None    2156.828311    46.53757    1442.726354\n"
     ]
    }
   ],
   "source": [
    "#6\n",
    "import pandas as pd\n",
    "from sqlalchemy import create_engine\n",
    "\n",
    "try:\n",
    "\n",
    "    file = \"Corona-Virus-Dataset.xlsx\"\n",
    "    df = pd.read_excel(file, sheet_name='Worksheet')\n",
    "    engine = create_engine('sqlite://', echo=False)\n",
    "    df.to_sql('corona', engine, if_exists='replace', index=False)\n",
    "\n",
    "    result = engine.execute(\"\"\"\n",
    "        SELECT strftime('%m', date) AS month,\n",
    "               AVG(confirmed) AS avg_confirmed,\n",
    "               AVG(deaths) AS avg_deaths,\n",
    "               AVG(recovered) AS avg_recovered\n",
    "        FROM corona\n",
    "        GROUP BY strftime('%m', date)\n",
    "        ORDER BY month\n",
    "    \"\"\")\n",
    "\n",
    "    final = pd.DataFrame(result.fetchall(), columns=result.keys())\n",
    "    output = \"output.xlsx\"\n",
    "    final.to_excel(output, index=False)\n",
    "    print(final)\n",
    "\n",
    "except Exception as e:\n",
    "    print(f\"An error occurred: {e}\")\n"
   ]
  },
  {
   "cell_type": "code",
   "execution_count": 2,
   "id": "597f6923",
   "metadata": {},
   "outputs": [
    {
     "name": "stdout",
     "output_type": "stream",
     "text": [
      "  month  max_confirmed  max_deaths  max_recovered\n",
      "0  None         823225        7374        1123456\n"
     ]
    }
   ],
   "source": [
    "#7\n",
    "import pandas as pd\n",
    "from sqlalchemy import create_engine\n",
    "\n",
    "try:\n",
    "  \n",
    "    file = \"Corona-Virus-Dataset.xlsx\"\n",
    "    df = pd.read_excel(file, sheet_name='Worksheet')\n",
    "    engine = create_engine('sqlite://', echo=False)\n",
    "    df.to_sql('corona', engine, if_exists='replace', index=False)\n",
    "\n",
    "    result = engine.execute(\"\"\"\n",
    "        SELECT strftime('%m', date) AS month,\n",
    "               MAX(confirmed) AS max_confirmed,\n",
    "               MAX(deaths) AS max_deaths,\n",
    "               MAX(recovered) AS max_recovered\n",
    "        FROM corona\n",
    "        GROUP BY strftime('%m', date)\n",
    "        ORDER BY month\n",
    "    \"\"\")\n",
    "\n",
    "    final = pd.DataFrame(result.fetchall(), columns=result.keys())\n",
    "    output = \"output.xlsx\"\n",
    "    final.to_excel(output, index=False)\n",
    "    print(final)\n",
    "\n",
    "except Exception as e:\n",
    "    print(f\"An error occurred: {e}\")\n"
   ]
  },
  {
   "cell_type": "code",
   "execution_count": 8,
   "id": "6651b494",
   "metadata": {},
   "outputs": [
    {
     "name": "stdout",
     "output_type": "stream",
     "text": [
      "   year  min_confirmed  min_deaths  min_recovered\n",
      "0  None              0           0              0\n"
     ]
    }
   ],
   "source": [
    "#8\n",
    "import pandas as pd\n",
    "from sqlalchemy import create_engine\n",
    "\n",
    "try:\n",
    " \n",
    "    file = \"Corona-Virus-Dataset.xlsx\"\n",
    "    df = pd.read_excel(file, sheet_name='Worksheet')\n",
    "    engine = create_engine('sqlite://', echo=False)\n",
    "    df.to_sql('corona', engine, if_exists='replace', index=False)\n",
    "\n",
    "    result = engine.execute(\"\"\"\n",
    "        SELECT strftime('%Y', date) AS year,\n",
    "               MIN(confirmed) AS min_confirmed,\n",
    "               MIN(deaths) AS min_deaths,\n",
    "               MIN(recovered) AS min_recovered\n",
    "        FROM corona\n",
    "        GROUP BY strftime('%Y', date)\n",
    "    \"\"\")\n",
    "\n",
    "    final = pd.DataFrame(result.fetchall(), columns=result.keys())\n",
    "    output = \"output.xlsx\"\n",
    "    final.to_excel(output, index=False)\n",
    "    print(final)\n",
    "\n",
    "except Exception as e:\n",
    "    print(f\"An error occurred: {e}\")"
   ]
  },
  {
   "cell_type": "code",
   "execution_count": 6,
   "id": "b7deeff2",
   "metadata": {},
   "outputs": [
    {
     "name": "stdout",
     "output_type": "stream",
     "text": [
      "   year  max_confirmed  max_deaths  max_recovered\n",
      "0  None         823225        7374        1123456\n"
     ]
    }
   ],
   "source": [
    "#9\n",
    "import pandas as pd\n",
    "from sqlalchemy import create_engine\n",
    "\n",
    "try: \n",
    "    \n",
    "    file = \"Corona-Virus-Dataset.xlsx\"\n",
    "    df = pd.read_excel(file, sheet_name='Worksheet')\n",
    "    engine = create_engine('sqlite://', echo=False)\n",
    "    df.to_sql('corona', engine, if_exists='replace', index=False)\n",
    "\n",
    "    result = engine.execute(\"\"\"\n",
    "        SELECT strftime('%Y', date) AS year,\n",
    "               MAX(confirmed) AS max_confirmed,\n",
    "               MAX(deaths) AS max_deaths,\n",
    "               MAX(recovered) AS max_recovered\n",
    "        FROM corona\n",
    "        GROUP BY strftime('%Y', date)\n",
    "    \"\"\")\n",
    "\n",
    "    final = pd.DataFrame(result.fetchall(), columns=result.keys())\n",
    "    output = \"output.xlsx\"\n",
    "    final.to_excel(output, index=False)\n",
    "    print(final)\n",
    "\n",
    "except Exception as e:\n",
    "    print(f\"An error occurred: {e}\")\n"
   ]
  },
  {
   "cell_type": "code",
   "execution_count": 9,
   "id": "2318b197",
   "metadata": {},
   "outputs": [
    {
     "name": "stdout",
     "output_type": "stream",
     "text": [
      "  month  year  total_confirmed  total_deaths  total_recovered\n",
      "0  None  None        169065144       3647894        113089548\n"
     ]
    }
   ],
   "source": [
    "#10\n",
    "import pandas as pd\n",
    "from sqlalchemy import create_engine\n",
    "\n",
    "try:\n",
    "   \n",
    "    file = \"Corona-Virus-Dataset.xlsx\"\n",
    "    df = pd.read_excel(file, sheet_name='Worksheet')\n",
    "    engine = create_engine('sqlite://', echo=False)\n",
    "    df.to_sql('corona', engine, if_exists='replace', index=False)\n",
    "\n",
    "    result = engine.execute(\"\"\"\n",
    "        SELECT strftime('%m', date) AS month,\n",
    "                strftime('%Y',date) AS year,\n",
    "                sum(cofirmed) AS total_cofirmed,\n",
    "                sum(deaths) AS total_deaths,\n",
    "                sum(recovered) AS total_recovered,\n",
    "        FROM corona\n",
    "        GROUP BY strftime('%m', date),strftime('%Y', date)\n",
    "    \"\"\")\n",
    "\n",
    "    final = pd.DataFrame(result.fetchall(), columns=result.keys())\n",
    "    output = \"output.xlsx\"\n",
    "    final.to_excel(output, index=False)\n",
    "    print(final)\n",
    "\n",
    "except Exception as e:\n",
    "    print(f\"An error occurred: {e}\")\n"
   ]
  },
  {
   "cell_type": "code",
   "execution_count": 14,
   "id": "c1341bdb",
   "metadata": {},
   "outputs": [
    {
     "name": "stdout",
     "output_type": "stream",
     "text": [
      "   total_confirmed  average_confirmed  variance_confirmed  stddev_confirmed\n",
      "0            78386        2156.828311        1.572889e+08      12541.488152\n"
     ]
    }
   ],
   "source": [
    "#11\n",
    "import pandas as pd\n",
    "from sqlalchemy import create_engine\n",
    "import numpy as np\n",
    "\n",
    "try:\n",
    "\n",
    "    file = \"Corona-Virus-Dataset.xlsx\"\n",
    "    df = pd.read_excel(file, sheet_name='Worksheet')\n",
    "    engine = create_engine('sqlite://', echo=False)\n",
    "    df.to_sql('corona', engine, if_exists='replace', index=False)\n",
    "\n",
    "    result = engine.execute(\"\"\"\n",
    "        SELECT COUNT(confirmed) AS total_confirmed,\n",
    "               AVG(confirmed) AS average_confirmed,\n",
    "               (AVG(confirmed * confirmed) - AVG(confirmed) * AVG(confirmed)) AS variance_confirmed\n",
    "        FROM corona\n",
    "    \"\"\") \n",
    "    \n",
    "    final = pd.DataFrame(result.fetchall(), columns=result.keys())\n",
    "    final['stddev_confirmed'] = np.sqrt(final['variance_confirmed'])\n",
    "    output = \"output.xlsx\"\n",
    "    final.to_excel(output, index=False)\n",
    "    print(final)\n",
    "\n",
    "except Exception as e:\n",
    "    print(f\"An error occurred: {e}\")\n"
   ]
  },
  {
   "cell_type": "code",
   "execution_count": 28,
   "id": "adb44d4d",
   "metadata": {},
   "outputs": [
    {
     "name": "stdout",
     "output_type": "stream",
     "text": [
      "An error occurred: 'date'\n"
     ]
    }
   ],
   "source": [
    "#12\n",
    "import pandas as pd\n",
    "from sqlalchemy import create_engine\n",
    "import numpy as np\n",
    "\n",
    "try:\n",
    "    \n",
    "    file = \"Corona-Virus-Dataset.xlsx\"\n",
    "    df = pd.read_excel(file, sheet_name='Worksheet')\n",
    "    engine = create_engine('sqlite://', echo=False)\n",
    "    df.to_sql('corona', engine, if_exists='replace', index=False)\n",
    "\n",
    "    result = engine.execute(\"\"\"\n",
    "        SELECT strftime('%m', date) as month, \n",
    "               COUNT(confirmed) AS total_confirmed, \n",
    "               AVG(confirmed) AS average_confirmed \n",
    "        FROM corona \n",
    "        GROUP BY strftime('%m', date)\n",
    "    \"\"\")\n",
    "\n",
    "    monthly_data = pd.DataFrame(result.fetchall(), columns=result.keys())\n",
    "    full_data = pd.read_sql(\"SELECT * FROM corona\", engine)\n",
    "    full_data['date'] = pd.to_datetime(full_data['date'], errors='coerce')\n",
    "    full_data['month'] = full_data['date'].dt.month\n",
    "    variance_stddev = full_data.groupby('month')['confirmed'].agg(['var', 'std']).reset_index()\n",
    "    variance_stddev.columns = ['month', 'variance_case', 'stddev_case']\n",
    "    final = pd.merge(monthly_data, variance_stddev, on='month', how='left')\n",
    "    output = \"output.xlsx\"\n",
    "    final.to_excel(output, index=False)\n",
    "    print(final)\n",
    "\n",
    "except Exception as e:\n",
    "    print(f\"An error occurred: {e}\")\n"
   ]
  },
  {
   "cell_type": "code",
   "execution_count": 1,
   "id": "63544854",
   "metadata": {},
   "outputs": [
    {
     "name": "stdout",
     "output_type": "stream",
     "text": [
      "   total_recovered  average_recovered  variance_recovered  stddev_recovered\n",
      "0            78386        1442.726354        1.070295e+08      10345.507395\n"
     ]
    }
   ],
   "source": [
    "#13\n",
    "import pandas as pd\n",
    "from sqlalchemy import create_engine\n",
    "import numpy as np\n",
    "\n",
    "try:\n",
    "    \n",
    "    file = \"Corona-Virus-Dataset.xlsx\"\n",
    "    df = pd.read_excel(file, sheet_name='Worksheet')\n",
    "    engine = create_engine('sqlite://', echo=False)\n",
    "    df.to_sql('corona', engine, if_exists='replace', index=False)\n",
    "\n",
    "    result = engine.execute(\"\"\"\n",
    "        SELECT COUNT(recovered) AS total_recovered,\n",
    "               AVG(recovered) AS average_recovered,\n",
    "               (AVG(recovered * recovered) - AVG(recovered) * AVG(recovered)) AS variance_recovered\n",
    "        FROM corona\n",
    "    \"\"\")\n",
    "    \n",
    "    final = pd.DataFrame(result.fetchall(), columns=result.keys())\n",
    "    final['stddev_recovered'] = np.sqrt(final['variance_recovered'])\n",
    "    output = \"output.xlsx\"\n",
    "    final.to_excel(output, index=False)\n",
    "    print(final)\n",
    "\n",
    "except Exception as e:\n",
    "    print(f\"An error occurred: {e}\")"
   ]
  },
  {
   "cell_type": "code",
   "execution_count": 3,
   "id": "c799a3cf",
   "metadata": {},
   "outputs": [
    {
     "name": "stdout",
     "output_type": "stream",
     "text": [
      "  Province Country  Latitude  Longitude        Date  Confirmed  Deaths  \\\n",
      "0   Turkey  Turkey   38.9637    35.2433  10-12-2020     823225     220   \n",
      "\n",
      "   Recovered  \n",
      "0       5232  \n"
     ]
    }
   ],
   "source": [
    "#14\n",
    "import pandas as pd\n",
    "from sqlalchemy import create_engine\n",
    "\n",
    "try:\n",
    " \n",
    "    file = \"Corona-Virus-Dataset.xlsx\"\n",
    "    df = pd.read_excel(file, sheet_name='Worksheet')\n",
    "    engine = create_engine('sqlite://', echo=False)\n",
    "    df.to_sql('corona', engine, if_exists='replace', index=False)\n",
    "\n",
    "    result = engine.execute(\"SELECT * FROM corona WHERE confirmed = (SELECT MAX(confirmed) FROM corona)\")\n",
    "\n",
    "    final = pd.DataFrame(result.fetchall(), columns=result.keys())\n",
    "    output = \"output.xlsx\"\n",
    "    final.to_excel(output, index=False)\n",
    "    print(final)\n",
    "\n",
    "except Exception as e:\n",
    "    print(f\"An error occurred: {e}\")\n"
   ]
  },
  {
   "cell_type": "code",
   "execution_count": 4,
   "id": "676edecb",
   "metadata": {},
   "outputs": [
    {
     "name": "stdout",
     "output_type": "stream",
     "text": [
      "  Country\n",
      "0   India\n"
     ]
    }
   ],
   "source": [
    "#15\n",
    "import pandas as pd\n",
    "from sqlalchemy import create_engine\n",
    "\n",
    "try:\n",
    "    \n",
    "    file = \"Corona-Virus-Dataset.xlsx\"\n",
    "    df = pd.read_excel(file, sheet_name='Worksheet')\n",
    "    engine = create_engine('sqlite://', echo=False)\n",
    "    df.to_sql('corona', engine, if_exists='replace', index=False)\n",
    "\n",
    "    result = engine.execute(\"SELECT country FROM corona WHERE deaths = (SELECT MAX(deaths) FROM corona)\")\n",
    "\n",
    "    final = pd.DataFrame(result.fetchall(), columns=result.keys())\n",
    "    output = \"output.xlsx\"\n",
    "    final.to_excel(output, index=False)\n",
    "    print(final)\n",
    "\n",
    "except Exception as e:\n",
    "    print(f\"An error occurred: {e}\")\n"
   ]
  },
  {
   "cell_type": "code",
   "execution_count": 7,
   "id": "c6490362",
   "metadata": {},
   "outputs": [
    {
     "name": "stdout",
     "output_type": "stream",
     "text": [
      "  country  total_recovered  rank\n",
      "0   India         28089649     1\n",
      "1  Brazil         15400169     2\n",
      "2      US          6303715     3\n",
      "3  Turkey          5202251     4\n",
      "4  Russia          4745756     5\n"
     ]
    }
   ],
   "source": [
    "#16\n",
    "import pandas as pd\n",
    "from sqlalchemy import create_engine\n",
    "\n",
    "try:\n",
    "\n",
    "    file = \"Corona-Virus-Dataset.xlsx\"\n",
    "    df = pd.read_excel(file, sheet_name='Worksheet')\n",
    "    engine = create_engine('sqlite://', echo=False)\n",
    "    df.to_sql('corona', engine, if_exists='replace', index=False)\n",
    "\n",
    "    result = engine.execute(\"\"\"\n",
    "        SELECT * from (SELECT country, SUM(recovered) AS total_recovered,DENSE_RANK()\n",
    "        OVER(ORDER BY SUM(recovered)DESC) AS rank FROM corona GROUP BY country ORDER BY total_recovered\n",
    "        DESC) WHERE rank <=5\n",
    "    \"\"\")\n",
    "\n",
    "    final = pd.DataFrame(result.fetchall(), columns=result.keys())\n",
    "    output = \"output.xlsx\"\n",
    "    final.to_excel(output, index=False)\n",
    "    print(final)\n",
    "\n",
    "except Exception as e:\n",
    "    print(f\"An error occurred: {e}\")\n"
   ]
  },
  {
   "cell_type": "code",
   "execution_count": null,
   "id": "1aeed22e",
   "metadata": {},
   "outputs": [],
   "source": []
  }
 ],
 "metadata": {
  "kernelspec": {
   "display_name": "Python 3 (ipykernel)",
   "language": "python",
   "name": "python3"
  },
  "language_info": {
   "codemirror_mode": {
    "name": "ipython",
    "version": 3
   },
   "file_extension": ".py",
   "mimetype": "text/x-python",
   "name": "python",
   "nbconvert_exporter": "python",
   "pygments_lexer": "ipython3",
   "version": "3.11.4"
  }
 },
 "nbformat": 4,
 "nbformat_minor": 5
}
